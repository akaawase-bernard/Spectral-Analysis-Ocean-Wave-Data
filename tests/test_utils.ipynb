{
 "cells": [
  {
   "cell_type": "code",
   "execution_count": 5,
   "id": "04ad9380-a1d6-4c05-a7ff-a2962fe54acb",
   "metadata": {},
   "outputs": [],
   "source": [
    "import sys\n",
    "sys.path.append('C:\\\\Users\\\\smorn\\\\Python\\\\')\n",
    "\n",
    "import utils"
   ]
  },
  {
   "cell_type": "code",
   "execution_count": 6,
   "id": "2f2ce5b6-037c-4894-988f-3143d31037e1",
   "metadata": {},
   "outputs": [
    {
     "ename": "TypeError",
     "evalue": "filt1d() missing 2 required positional arguments: 'data' and 'window'",
     "output_type": "error",
     "traceback": [
      "\u001b[1;31m---------------------------------------------------------------------------\u001b[0m",
      "\u001b[1;31mTypeError\u001b[0m                                 Traceback (most recent call last)",
      "Cell \u001b[1;32mIn[6], line 1\u001b[0m\n\u001b[1;32m----> 1\u001b[0m utils\u001b[38;5;241m.\u001b[39mfilt1d()\n",
      "\u001b[1;31mTypeError\u001b[0m: filt1d() missing 2 required positional arguments: 'data' and 'window'"
     ]
    }
   ],
   "source": [
    "utils.filt1d()"
   ]
  },
  {
   "cell_type": "code",
   "execution_count": 8,
   "id": "d6818e4a-8359-4ec0-a236-7759aea7b677",
   "metadata": {},
   "outputs": [
    {
     "name": "stdout",
     "output_type": "stream",
     "text": [
      "Help on function filt1d in module utils:\n",
      "\n",
      "filt1d(data, window)\n",
      "    Smooths a 1D spectrum using a moving average filter.\n",
      "    \n",
      "    Parameters:\n",
      "    data (array-like): The 1D spectral data to be smoothed.\n",
      "    window_size (int): The size of the moving average window.\n",
      "    \n",
      "    Returns:\n",
      "    numpy.ndarray: The smoothed 1D spectrum, with length reduced by (window_size - 1).\n",
      "    \n",
      "    Author: UCONN AirSea Lab, 2022\n",
      "\n"
     ]
    }
   ],
   "source": [
    "help(utils.filt1d)"
   ]
  },
  {
   "cell_type": "code",
   "execution_count": null,
   "id": "c79659fb-c61e-4db5-b8bf-0579fed30637",
   "metadata": {},
   "outputs": [],
   "source": []
  }
 ],
 "metadata": {
  "kernelspec": {
   "display_name": "Python 3 (ipykernel)",
   "language": "python",
   "name": "python3"
  },
  "language_info": {
   "codemirror_mode": {
    "name": "ipython",
    "version": 3
   },
   "file_extension": ".py",
   "mimetype": "text/x-python",
   "name": "python",
   "nbconvert_exporter": "python",
   "pygments_lexer": "ipython3",
   "version": "3.11.11"
  }
 },
 "nbformat": 4,
 "nbformat_minor": 5
}
