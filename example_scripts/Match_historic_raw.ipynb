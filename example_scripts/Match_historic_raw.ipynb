{
 "cells": [
  {
   "cell_type": "code",
   "execution_count": 1,
   "id": "a07457bf-d729-4fab-be04-d8400df8e749",
   "metadata": {},
   "outputs": [],
   "source": [
    "import netCDF4\n",
    "import numpy as np\n",
    "import matplotlib.pyplot as plt\n",
    "import datetime\n",
    "import matplotlib.dates as mpldts\n",
    "import calendar\n",
    "import csv"
   ]
  },
  {
   "cell_type": "code",
   "execution_count": 2,
   "id": "60345b03-2344-4a3e-b35e-303fa4b7011a",
   "metadata": {},
   "outputs": [],
   "source": [
    "stn = '154' #067\n",
    "dataset = 'archive' # Enter 'archive' or 'realtime'\n",
    "deploy = '1' # If archive dataset, set deployment number from .nc file\n",
    "\n",
    "start_date = '10/09/2017 9:00' # MM/DD/YYYY HH:MM\n",
    "duration  = 30 # Set length of timeseries (minutes)\n",
    "\n",
    "qc_level = 2 # Filter data with qc flags above this number"
   ]
  },
  {
   "cell_type": "code",
   "execution_count": 3,
   "id": "7531890d-eb02-4e6f-a5d6-affe5f29ad0c",
   "metadata": {
    "scrolled": true
   },
   "outputs": [
    {
     "data": {
      "text/plain": [
       "<class 'netCDF4.Dataset'>\n",
       "root group (NETCDF3_CLASSIC data model, file format NETCDF3):\n",
       "    naming_authority: edu.ucsd.cdip\n",
       "    keywords_vocabulary: Global Change Master Directory (GCMD) Earth Science Keywords\n",
       "    date_created: 2020-07-29T19:27:25Z\n",
       "    date_issued: 2020-07-29T19:27:25Z\n",
       "    date_modified: 2020-07-29T19:27:25Z\n",
       "    creator_name: Coastal Data Information Program, SIO/UCSD\n",
       "    creator_url: http://cdip.ucsd.edu\n",
       "    creator_email: www@cdip.ucsd.edu\n",
       "    publisher_name: Coastal Data Information Program, SIO/UCSD\n",
       "    publisher_url: http://cdip.ucsd.edu\n",
       "    publisher_email: www@cdip.ucsd.edu\n",
       "    institution: Scripps Institution of Oceanography, University of California San Diego\n",
       "    project: Coastal Data Information Program (CDIP)\n",
       "    processing_level: QA/QC information available at http://cdip.ucsd.edu/documentation\n",
       "    standard_name_vocabulary: CF Standard Name Table (v29, 08 July 2015)\n",
       "    Conventions: ACDD-1.3, CF-1.6\n",
       "    license: These data may be redistributed and used without restriction.\n",
       "    cdm_data_type: Station\n",
       "    featureType: timeSeries\n",
       "    ncei_template_version: NCEI_NetCDF_TimeSeries_Orthogonal_Template_v2.0\n",
       "    references: http://cdip.ucsd.edu/documentation\n",
       "    uuid: E0CC0BBF-C427-49B7-920C-9B603E642910\n",
       "    title: Directional wave and sea surface temperature measurements collected in situ by Datawell DWR-M3 directional buoy located near BLOCK ISLAND, RI from 2017/08/02 14:00:00 to 2017/08/17 09:59:59.\n",
       "    summary: Directional wave and sea surface temperature measurements collected in situ by Datawell DWR-M3 directional buoy located near BLOCK ISLAND, RI from 2017/08/02 14:00:00 to 2017/08/17 09:59:59. A total of 712 wave samples were analyzed for this site, where the water depth is approximately 48 meters.\n",
       "    keywords: EARTH SCIENCE, OCEANS, OCEAN WAVES, GRAVITY WAVES, WIND WAVES, SIGNIFICANT WAVE HEIGHT, WAVE FREQUENCY, WAVE PERIOD, WAVE SPECTRA, OCEAN TEMPERATURE, SEA SURFACE TEMPERATURE, WATER TEMPERATURE, OCEAN, ATLANTIC OCEAN, NORTH ATLANTIC OCEAN\n",
       "    cdip_station_id: 154\n",
       "    wmo_id: 44097\n",
       "    id: CDIP_154p1_20170802-20170817\n",
       "    history: 2020-07-29T19:27:25Z: dataset created; reprocessed to adjust observation times in accordance with the Feb 2020 Datawell manual release. User, program, arguments: uproc, process_dw_historic v2.0, 154 08 m. If date_modified is after date_created, contact CDIP for details of changes.\n",
       "    comment: All values are decoded directly from the instruments in accordance with the manufacturers documentation EXCEPT for those with the attribute :additional_processing which describes further data handling performed by CDIP.\n",
       "    acknowledgment: CDIP is primarily supported by the U.S. Army Corps of Engineers (USACE). Field operator: USACE\n",
       "    metadata_link: http://cdip.ucsd.edu/metadata/154p1\n",
       "    contributor_name: USACE, USACE, CDIP\n",
       "    contributor_role: station operation, station funding, data management\n",
       "    geospatial_lat_min: 40.967052\n",
       "    geospatial_lat_max: 40.97035\n",
       "    geospatial_lat_units: degrees_north\n",
       "    geospatial_lat_resolution: 1e-04\n",
       "    geospatial_lon_min: -71.12928\n",
       "    geospatial_lon_max: -71.124916\n",
       "    geospatial_lon_units: degrees_east\n",
       "    geospatial_lon_resolution: 1e-04\n",
       "    geospatial_vertical_min: 0.0\n",
       "    geospatial_vertical_max: 0.0\n",
       "    geospatial_vertical_units: meters\n",
       "    geospatial_vertical_origin: sea surface\n",
       "    geospatial_vertical_positive: up\n",
       "    geospatial_vertical_resolution: 1.0\n",
       "    time_coverage_start: 2017-08-02T14:00:00Z\n",
       "    time_coverage_end: 2017-08-17T09:59:59Z\n",
       "    time_coverage_duration: P014DT19H60M\n",
       "    time_coverage_resolution: PT30M\n",
       "    source: insitu observations\n",
       "    platform: metaPlatform\n",
       "    instrument: metaInstrumentation\n",
       "    dimensions(sizes): metaBoundsCount(2), sourceCount(1213), sourceNameLength(30), waveTime(712), waveFrequency(64), xyzCount(1640447), sstTime(712), gpsTime(712), dwrTime(712), metaStationNameLength(29)\n",
       "    variables(dimensions): |S1 sourceFilename(sourceCount, sourceNameLength), int32 waveTime(waveTime), int32 waveTimeBounds(waveTime, metaBoundsCount), int8 waveFlagPrimary(waveTime), int8 waveFlagSecondary(waveTime), float32 waveHs(waveTime), float32 waveTp(waveTime), float32 waveTa(waveTime), float32 waveDp(waveTime), float32 wavePeakPSD(waveTime), float32 waveTz(waveTime), int32 waveSourceIndex(waveTime), float32 waveFrequency(waveFrequency), float32 waveFrequencyBounds(waveFrequency, metaBoundsCount), int8 waveFrequencyFlagPrimary(waveFrequency), int8 waveFrequencyFlagSecondary(waveFrequency), float32 waveBandwidth(waveFrequency), float32 waveEnergyDensity(waveTime, waveFrequency), float32 waveMeanDirection(waveTime, waveFrequency), float32 waveA1Value(waveTime, waveFrequency), float32 waveB1Value(waveTime, waveFrequency), float32 waveA2Value(waveTime, waveFrequency), float32 waveB2Value(waveTime, waveFrequency), float32 waveCheckFactor(waveTime, waveFrequency), float32 waveSpread(waveTime, waveFrequency), float32 waveM2Value(waveTime, waveFrequency), float32 waveN2Value(waveTime, waveFrequency), int32 xyzStartTime(), float32 xyzSampleRate(), float32 xyzFilterDelay(), int8 xyzFlagPrimary(xyzCount), int8 xyzFlagSecondary(xyzCount), float32 xyzZDisplacement(xyzCount), float32 xyzXDisplacement(xyzCount), float32 xyzYDisplacement(xyzCount), int32 xyzSourceIndex(xyzCount), int32 sstTime(sstTime), int32 sstTimeBounds(sstTime, metaBoundsCount), int8 sstFlagPrimary(sstTime), int8 sstFlagSecondary(sstTime), float32 sstSeaSurfaceTemperature(sstTime), int32 sstSourceIndex(sstTime), float32 sstReferenceTemp(sstTime), int32 gpsTime(gpsTime), int32 gpsTimeBounds(gpsTime, metaBoundsCount), int8 gpsStatusFlags(gpsTime), float32 gpsLatitude(gpsTime), float32 gpsLongitude(gpsTime), int32 gpsSourceIndex(gpsTime), int32 dwrTime(dwrTime), int32 dwrTimeBounds(dwrTime, metaBoundsCount), int32 dwrSourceIndex(dwrTime), int32 dwrBatteryLevel(dwrTime), float32 dwrZAccelerometerOffset(dwrTime), float32 dwrXAccelerometerOffset(dwrTime), float32 dwrYAccelerometerOffset(dwrTime), float32 dwrOrientation(dwrTime), float32 dwrInclination(dwrTime), int32 dwrBatteryWeeksOfLife(dwrTime), |S1 metaStationName(metaStationNameLength), |S1 metaPlatform(), |S1 metaInstrumentation(), float32 metaDeployLatitude(), float32 metaDeployLongitude(), float32 metaWaterDepth(), float32 metaDeclination(), |S1 metaGridMapping()\n",
       "    groups: "
      ]
     },
     "execution_count": 3,
     "metadata": {},
     "output_type": "execute_result"
    }
   ],
   "source": [
    "datapath = '../Python/data/154p1_d08.nc'\n",
    "nc = netCDF4.Dataset(datapath)\n",
    "# Turn off auto masking\n",
    "nc.set_auto_mask(False)\n",
    "nc"
   ]
  },
  {
   "cell_type": "code",
   "execution_count": 4,
   "id": "17ab3c05-1833-472a-ba61-9a91aadbd8b1",
   "metadata": {},
   "outputs": [
    {
     "name": "stdout",
     "output_type": "stream",
     "text": [
      "2017-08-02T14:00:00Z\n"
     ]
    },
    {
     "data": {
      "text/plain": [
       "'08/02/2017 14:00'"
      ]
     },
     "execution_count": 4,
     "metadata": {},
     "output_type": "execute_result"
    }
   ],
   "source": [
    "attribute_value = nc.getncattr('time_coverage_start')\n",
    "print(attribute_value)\n",
    "\n",
    "# MM/DD/YYYY HH:MM\n",
    "\n",
    "type(attribute_value)\n",
    "MM = attribute_value[5:7]\n",
    "DD = attribute_value[8:10]\n",
    "YYYY = attribute_value[:4]\n",
    "HH = attribute_value[11:13]\n",
    "mm = attribute_value[14:16]\n",
    "\n",
    "start_date_1 = MM + '/' + DD + '/' + YYYY + ' ' + HH + ':' + mm\n",
    "start_date_1"
   ]
  },
  {
   "cell_type": "code",
   "execution_count": 35,
   "id": "daf230c5-777d-4fe6-a566-649999931ddb",
   "metadata": {},
   "outputs": [
    {
     "data": {
      "text/plain": [
       "<class 'netCDF4.Variable'>\n",
       "float32 xyzXDisplacement(xyzCount)\n",
       "    long_name: sea surface north displacement\n",
       "    units: meter\n",
       "    _FillValue: -999.99\n",
       "    coordinates: metaDeployLatitude metaDeployLongitude\n",
       "    grid_mapping: metaGridMapping\n",
       "    valid_min: 20.47\n",
       "    valid_max: -20.47\n",
       "    ancillary_variables: xyzFlagPrimary xyzFlagSecondary\n",
       "    name: x displacement\n",
       "    comment: UTC measurement times calculated as xyzStartTime + arrayIndex/xyzSampleRate - xyzFilterDelay, where arrayIndex is the displacement array index starting from 0.\n",
       "unlimited dimensions: \n",
       "current shape = (1640447,)\n",
       "filling on"
      ]
     },
     "execution_count": 35,
     "metadata": {},
     "output_type": "execute_result"
    }
   ],
   "source": [
    "xdisp = nc.variables['xyzXDisplacement'] # Make a numpy array of three directional displacement variables (x, y, z)\n",
    "ydisp = nc.variables['xyzYDisplacement']\n",
    "zdisp = nc.variables['xyzZDisplacement']\n",
    "qc_flag = nc.variables['xyzFlagPrimary']\n",
    "filter_delay = nc.variables['xyzFilterDelay']\n",
    "start_time = nc.variables['xyzStartTime'][:] # Variable that gives start time for buoy data collection\n",
    "sample_rate = nc.variables['xyzSampleRate'][:] # Variable that gives rate (frequency, Hz) of sampling\n",
    "end_time = start_time + (len(xdisp)/sample_rate) # Calulate end time for buoy data collection\n",
    "\n",
    "# Get station name and number for plot title\n",
    "station_name = nc.variables['metaStationName'][:]\n",
    "station_title = station_name.tobytes().decode().split('\\x00',1)[0]\n",
    "\n",
    "xdisp"
   ]
  },
  {
   "cell_type": "code",
   "execution_count": 9,
   "id": "f508e8a9-28ac-4e70-b85b-5cb6915b2bb0",
   "metadata": {},
   "outputs": [
    {
     "name": "stdout",
     "output_type": "stream",
     "text": [
      "data_start: 08/02/2017 13:57:46\n",
      "  data_end: 08/17/2017 09:57:45\n"
     ]
    }
   ],
   "source": [
    "# Convert to unix timestamp\n",
    "def get_unix_timestamp(human_time,dateFormat):\n",
    "    unix_timestamp = int(calendar.timegm(datetime.datetime.strptime(human_time, dateFormat).timetuple()))\n",
    "    return unix_timestamp\n",
    "\n",
    "# Convert to human readable timestamp\n",
    "def get_human_timestamp(unix_timestamp, dateFormat):\n",
    "    human_timestamp = datetime.datetime.utcfromtimestamp(int(unix_timestamp)).strftime(dateFormat)\n",
    "    return human_timestamp\n",
    "\n",
    "data_start = get_human_timestamp(start_time - filter_delay[0],\"%m/%d/%Y %H:%M:%S\")\n",
    "data_end = get_human_timestamp(end_time - filter_delay[0],\"%m/%d/%Y %H:%M:%S\")\n",
    "print(\"data_start: \" + data_start)\n",
    "print(\"  data_end: \" + data_end)"
   ]
  },
  {
   "cell_type": "code",
   "execution_count": 13,
   "id": "514492f7-8970-4f64-b2d2-eabd887779d0",
   "metadata": {},
   "outputs": [
    {
     "data": {
      "text/plain": [
       "1507539600"
      ]
     },
     "execution_count": 13,
     "metadata": {},
     "output_type": "execute_result"
    }
   ],
   "source": [
    "# Find UNIX timestamps for user human-formatted start/end dates\n",
    "unix_start = get_unix_timestamp(start_date,\"%m/%d/%Y %H:%M\") \n",
    "unix_end = unix_start + (duration * 60) # Create UNIX end stamp by adding duration to 'unix_start'\n",
    "\n",
    "# Create specialized array using UNIX Start and End times minus Filter Delay, and Sampling Period (1/sample_rate) \n",
    "# to calculate sub-second time values that correspond to Z-Displacement sampling values\n",
    "sample_time = np.arange((start_time - filter_delay[0]), end_time - filter_delay[0],(1/(sample_rate)))\n",
    "\n",
    "# Find corresponding start/end date index numbers in 'sample_time' array    \n",
    "start_index = sample_time.searchsorted(unix_start) \n",
    "end_index = sample_time.searchsorted(unix_end)\n",
    "\n",
    "unix_start"
   ]
  },
  {
   "cell_type": "code",
   "execution_count": 15,
   "id": "2eccdb95-706e-4851-91d8-a7da48275146",
   "metadata": {},
   "outputs": [
    {
     "data": {
      "text/plain": [
       "1507541400"
      ]
     },
     "execution_count": 15,
     "metadata": {},
     "output_type": "execute_result"
    }
   ],
   "source": [
    "unix_end"
   ]
  },
  {
   "cell_type": "code",
   "execution_count": 17,
   "id": "2409add7-d6a8-4b4f-8681-0ea20e487db3",
   "metadata": {},
   "outputs": [
    {
     "data": {
      "text/plain": [
       "np.int64(1640448)"
      ]
     },
     "execution_count": 17,
     "metadata": {},
     "output_type": "execute_result"
    }
   ],
   "source": [
    "start_index"
   ]
  },
  {
   "cell_type": "code",
   "execution_count": 19,
   "id": "c927e6ab-c507-48ce-bcbb-451123c2e4d7",
   "metadata": {},
   "outputs": [
    {
     "data": {
      "text/plain": [
       "np.int64(1640448)"
      ]
     },
     "execution_count": 19,
     "metadata": {},
     "output_type": "execute_result"
    }
   ],
   "source": [
    "end_index"
   ]
  },
  {
   "cell_type": "code",
   "execution_count": 21,
   "id": "6214d2d0-a078-49f9-85f3-a50f672a1bf4",
   "metadata": {},
   "outputs": [
    {
     "data": {
      "text/plain": [
       "array([1.50168227e+09, 1.50168227e+09, 1.50168227e+09, ...,\n",
       "       1.50296386e+09, 1.50296387e+09, 1.50296387e+09], shape=(1640448,))"
      ]
     },
     "execution_count": 21,
     "metadata": {},
     "output_type": "execute_result"
    }
   ],
   "source": [
    "sample_time"
   ]
  },
  {
   "cell_type": "code",
   "execution_count": 23,
   "id": "24691df0-6f15-4f86-bd7d-628bc9135e06",
   "metadata": {},
   "outputs": [
    {
     "data": {
      "text/plain": [
       "array([], dtype=float32)"
      ]
     },
     "execution_count": 23,
     "metadata": {},
     "output_type": "execute_result"
    }
   ],
   "source": [
    "xdisp[start_index:end_index]"
   ]
  },
  {
   "cell_type": "code",
   "execution_count": null,
   "id": "e8cd2cd0-68fd-4d4a-b0bd-a5f667d9fea8",
   "metadata": {},
   "outputs": [],
   "source": []
  },
  {
   "cell_type": "code",
   "execution_count": 26,
   "id": "f69b22b4-d993-4fda-9167-9b374e451273",
   "metadata": {},
   "outputs": [
    {
     "data": {
      "text/plain": [
       "<class 'netCDF4.Dataset'>\n",
       "root group (NETCDF3_CLASSIC data model, file format NETCDF3):\n",
       "    naming_authority: edu.ucsd.cdip\n",
       "    keywords_vocabulary: Global Change Master Directory (GCMD) Earth Science Keywords\n",
       "    date_created: 2024-10-28T22:26:43Z\n",
       "    date_issued: 2024-10-28T22:26:43Z\n",
       "    date_modified: 2024-10-28T22:26:43Z\n",
       "    creator_name: Coastal Data Information Program, SIO/UCSD\n",
       "    creator_url: http://cdip.ucsd.edu\n",
       "    creator_email: www@cdip.ucsd.edu\n",
       "    creator_institution: Scripps Institution of Oceanography, UCSD\n",
       "    creator_country: USA\n",
       "    creator_sector: academic\n",
       "    publisher_name: Coastal Data Information Program, SIO/UCSD\n",
       "    publisher_url: http://cdip.ucsd.edu\n",
       "    publisher_email: www@cdip.ucsd.edu\n",
       "    publisher_country: USA\n",
       "    publisher_institution: Scripps Institution of Oceanography, UCSD\n",
       "    institution: Scripps Institution of Oceanography, University of California San Diego\n",
       "    project: Coastal Data Information Program (CDIP)\n",
       "    processing_level: QA/QC information available at http://cdip.ucsd.edu/documentation\n",
       "    standard_name_vocabulary: CF Standard Name Table v79\n",
       "    Conventions: ACDD-1.3, CF-1.8, IOOS-1.2\n",
       "    license: These data may be redistributed and used without restriction.\n",
       "    cdm_data_type: Station\n",
       "    featureType: timeSeries\n",
       "    ncei_template_version: NCEI_NetCDF_TimeSeries_Orthogonal_Template_v2.0\n",
       "    references: http://cdip.ucsd.edu/documentation\n",
       "    uuid: C34B733E-0A09-4D55-9F2A-BE76180E3F1B\n",
       "    title: Directional wave and sea surface temperature measurements collected in situ by Datawell Waverider buoys located near BLOCK ISLAND, RI from 2009/09/17 to 2024/10/28.\n",
       "    summary: Directional wave and sea surface temperature measurements collected in situ by Datawell Waverider buoys located near BLOCK ISLAND, RI from 2009/09/17 to 2024/10/28. This dataset includes publicly-released data only, excluding all records flagged bad by quality control procedures. A total of 246568 wave samples were analyzed for this area, where the water depth is approximately 48 to 51 meters.\n",
       "    keywords: EARTH SCIENCE, OCEANS, OCEAN WAVES, GRAVITY WAVES, WIND WAVES, SIGNIFICANT WAVE HEIGHT, WAVE FREQUENCY, WAVE PERIOD, WAVE SPECTRA, OCEAN TEMPERATURE, SEA SURFACE TEMPERATURE, WATER TEMPERATURE, OCEAN, ATLANTIC OCEAN, NORTH ATLANTIC OCEAN\n",
       "    id: CDIP_154p1_20090917-20241028_historic\n",
       "    history: 2024-10-28T22:26:43Z: dataset created; user, program, arguments: uproc, wnc_append_to_hist v1.0, 154. If date_modified is after date_created, contact CDIP for details of changes.\n",
       "    comment: Multiple deployments may be included in this dataset. Please refer to the per-deployment datasets - as referenced by sourceFilename and the xxxSourceIndex variables - for more complete metadata. All values are decoded directly from the instruments in accordance with the manufacturers documentation EXCEPT for those with the attribute :additional_processing which describes further data handling performed by CDIP.\n",
       "    acknowledgment: CDIP is primarily supported by the U.S. Army Corps of Engineers (USACE). Field operator: CDIP\n",
       "    metadata_link: http://cdip.ucsd.edu/metadata/154p1\n",
       "    infoUrl: http://cdip.ucsd.edu/metadata/154p1\n",
       "    contributor_name: CDIP, USACE\n",
       "    contributor_role: station operation, station funding\n",
       "    geospatial_lat_min: 40.965492\n",
       "    geospatial_lat_max: 40.982716\n",
       "    geospatial_lat_units: degrees_north\n",
       "    geospatial_lat_resolution: 1e-04\n",
       "    geospatial_lon_min: -71.12928\n",
       "    geospatial_lon_max: -71.11945\n",
       "    geospatial_lon_units: degrees_east\n",
       "    geospatial_lon_resolution: 1e-04\n",
       "    geospatial_vertical_min: 0.0\n",
       "    geospatial_vertical_max: 0.0\n",
       "    geospatial_vertical_units: meters\n",
       "    geospatial_vertical_origin: sea surface\n",
       "    geospatial_vertical_positive: up\n",
       "    geospatial_vertical_resolution: 1.0\n",
       "    time_coverage_start: 2009-09-17T21:00:00Z\n",
       "    time_coverage_end: 2024-10-28T16:59:59Z\n",
       "    time_coverage_duration: P0788W3DT20H\n",
       "    time_coverage_resolution: PT30M\n",
       "    source: insitu observations\n",
       "    platform: metaPlatform\n",
       "    instrument: metaInstrumentation\n",
       "    dimensions(sizes): metaBoundsCount(2), sourceCount(12), sourceNameLength(30), waveTime(246568), waveFrequency(64), sstTime(246004), gpsTime(245207), dwrTime(246590), metaDeployCount(12), metaStationNameLength(29)\n",
       "    variables(dimensions): |S1 sourceFilename(sourceCount, sourceNameLength), int32 waveTime(waveTime), int32 waveTimeBounds(waveTime, metaBoundsCount), int8 waveFlagPrimary(waveTime), int8 waveFlagSecondary(waveTime), float32 waveHs(waveTime), float32 waveTp(waveTime), float32 waveTa(waveTime), float32 waveDp(waveTime), float32 wavePeakPSD(waveTime), float32 waveTz(waveTime), int32 waveSourceIndex(waveTime), float32 waveFrequency(waveFrequency), float32 waveFrequencyBounds(waveFrequency, metaBoundsCount), int8 waveFrequencyFlagPrimary(waveFrequency), int8 waveFrequencyFlagSecondary(waveFrequency), float32 waveBandwidth(waveFrequency), float32 waveEnergyDensity(waveTime, waveFrequency), float32 waveMeanDirection(waveTime, waveFrequency), float32 waveA1Value(waveTime, waveFrequency), float32 waveB1Value(waveTime, waveFrequency), float32 waveA2Value(waveTime, waveFrequency), float32 waveB2Value(waveTime, waveFrequency), float32 waveCheckFactor(waveTime, waveFrequency), float32 waveSpread(waveTime, waveFrequency), float32 waveM2Value(waveTime, waveFrequency), float32 waveN2Value(waveTime, waveFrequency), int32 sstTime(sstTime), int32 sstTimeBounds(sstTime, metaBoundsCount), int8 sstFlagPrimary(sstTime), int8 sstFlagSecondary(sstTime), float32 sstSeaSurfaceTemperature(sstTime), int32 sstSourceIndex(sstTime), float32 sstReferenceTemp(sstTime), int32 gpsTime(gpsTime), int32 gpsTimeBounds(gpsTime, metaBoundsCount), int8 gpsStatusFlags(gpsTime), float32 gpsLatitude(gpsTime), float32 gpsLongitude(gpsTime), int32 gpsSourceIndex(gpsTime), int32 dwrTime(dwrTime), int32 dwrTimeBounds(dwrTime, metaBoundsCount), int32 dwrSourceIndex(dwrTime), int32 dwrBatteryLevel(dwrTime), float32 dwrZAccelerometerOffset(dwrTime), float32 dwrXAccelerometerOffset(dwrTime), float32 dwrYAccelerometerOffset(dwrTime), float32 dwrOrientation(dwrTime), float32 dwrInclination(dwrTime), int32 dwrBatteryWeeksOfLife(dwrTime), float32 metaDeployLatitude(metaDeployCount), float32 metaDeployLongitude(metaDeployCount), float32 metaWaterDepth(metaDeployCount), float32 metaDeclination(metaDeployCount), |S1 metaStationName(metaStationNameLength), float32 metaStationLatitude(), float32 metaStationLongitude(), |S1 metaPlatform(), |S1 metaInstrumentation(), |S1 metaGridMapping()\n",
       "    groups: "
      ]
     },
     "execution_count": 26,
     "metadata": {},
     "output_type": "execute_result"
    }
   ],
   "source": [
    "datapath_hist = '../Python/data/154p1_historic.nc'\n",
    "nc_hist = netCDF4.Dataset(datapath_hist)\n",
    "# Turn off auto masking\n",
    "nc_hist.set_auto_mask(False)\n",
    "nc_hist"
   ]
  },
  {
   "cell_type": "code",
   "execution_count": 28,
   "id": "cd3fbfe2-4ecf-4088-9604-6a56c9560356",
   "metadata": {},
   "outputs": [
    {
     "name": "stdout",
     "output_type": "stream",
     "text": [
      "2009-09-17T21:00:00Z\n"
     ]
    }
   ],
   "source": [
    "attribute_value_hist = nc_hist.getncattr('time_coverage_start')\n",
    "print(attribute_value_hist)\n",
    "#attribute_end_hist = nc.hist.getncattr('time_coverage_end')\n",
    "#print(attribute_end_hist)"
   ]
  },
  {
   "cell_type": "code",
   "execution_count": 33,
   "id": "15009197-3bf2-4daf-877c-ea0f66884a58",
   "metadata": {},
   "outputs": [
    {
     "name": "stdout",
     "output_type": "stream",
     "text": [
      "<class 'netCDF4.Variable'>\n",
      "int32 waveTime(waveTime)\n",
      "    long_name: UTC sample start time\n",
      "    standard_name: time\n",
      "    units: seconds since 1970-01-01 00:00:00 UTC\n",
      "    calendar: standard\n",
      "    axis: T\n",
      "    coverage_content_type: coordinate\n",
      "    bounds: waveTimeBounds\n",
      "    comment: Spectral processing performed on 1600-second samples specified by waveTimeBounds.\n",
      "unlimited dimensions: \n",
      "current shape = (246568,)\n",
      "filling on, default _FillValue of -2147483647 used\n"
     ]
    }
   ],
   "source": [
    "waveTime_hist = nc_hist.variables['waveTime']\n",
    "print(waveTime_hist)"
   ]
  },
  {
   "cell_type": "code",
   "execution_count": 38,
   "id": "6b87a95c-bb59-4c9a-aed3-74b54fa13c9a",
   "metadata": {},
   "outputs": [
    {
     "ename": "KeyError",
     "evalue": "'xyzXDisplacement'",
     "output_type": "error",
     "traceback": [
      "\u001b[1;31m---------------------------------------------------------------------------\u001b[0m",
      "\u001b[1;31mKeyError\u001b[0m                                  Traceback (most recent call last)",
      "Cell \u001b[1;32mIn[38], line 1\u001b[0m\n\u001b[1;32m----> 1\u001b[0m xdisp_hist \u001b[38;5;241m=\u001b[39m nc_hist\u001b[38;5;241m.\u001b[39mvariables[\u001b[38;5;124m'\u001b[39m\u001b[38;5;124mxyzXDisplacement\u001b[39m\u001b[38;5;124m'\u001b[39m]\n",
      "\u001b[1;31mKeyError\u001b[0m: 'xyzXDisplacement'"
     ]
    }
   ],
   "source": [
    "xdisp_hist = nc_hist.variables['xyzXDisplacement']"
   ]
  },
  {
   "cell_type": "code",
   "execution_count": null,
   "id": "68306895-0eca-4528-801c-dc88e3214963",
   "metadata": {},
   "outputs": [],
   "source": []
  }
 ],
 "metadata": {
  "kernelspec": {
   "display_name": "Python [conda env:spectral_analysis]",
   "language": "python",
   "name": "conda-env-spectral_analysis-py"
  },
  "language_info": {
   "codemirror_mode": {
    "name": "ipython",
    "version": 3
   },
   "file_extension": ".py",
   "mimetype": "text/x-python",
   "name": "python",
   "nbconvert_exporter": "python",
   "pygments_lexer": "ipython3",
   "version": "3.11.11"
  }
 },
 "nbformat": 4,
 "nbformat_minor": 5
}
